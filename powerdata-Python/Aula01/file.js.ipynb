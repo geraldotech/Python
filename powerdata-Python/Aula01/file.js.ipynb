{
 "cells": [
  {
   "cell_type": "code",
   "execution_count": 11,
   "id": "7177dea5",
   "metadata": {},
   "outputs": [
    {
     "ename": "ReferenceError",
     "evalue": "prompt is not defined",
     "output_type": "error",
     "traceback": [
      "evalmachine.<anonymous>:1",
      "const num = prompt('Enter a number: ');",
      "            ^",
      "",
      "ReferenceError: prompt is not defined",
      "    at evalmachine.<anonymous>:1:13",
      "    at Script.runInThisContext (node:vm:123:12)",
      "    at Object.runInThisContext (node:vm:299:38)",
      "    at run ([eval]:1020:15)",
      "    at onRunRequest ([eval]:864:18)",
      "    at onMessage ([eval]:828:13)",
      "    at process.emit (node:events:514:28)",
      "    at emit (node:internal/child_process:937:14)",
      "    at process.processTicksAndRejections (node:internal/process/task_queues:83:21)"
     ]
    }
   ],
   "source": [
    "const num = prompt('Enter a number: ');\n",
    "console.log('Your number + 4 =');\n",
    "console.log(Number(num) + 4);\n"
   ]
  },
  {
   "cell_type": "code",
   "execution_count": null,
   "id": "c619bca6",
   "metadata": {},
   "outputs": [],
   "source": []
  },
  {
   "cell_type": "code",
   "execution_count": null,
   "id": "4c55decd",
   "metadata": {},
   "outputs": [],
   "source": []
  },
  {
   "cell_type": "code",
   "execution_count": null,
   "id": "d3f2ca15",
   "metadata": {},
   "outputs": [],
   "source": []
  }
 ],
 "metadata": {
  "kernelspec": {
   "display_name": "JavaScript (Node.js)",
   "language": "javascript",
   "name": "javascript"
  },
  "language_info": {
   "file_extension": ".js",
   "mimetype": "application/javascript",
   "name": "javascript",
   "version": "18.17.1"
  }
 },
 "nbformat": 4,
 "nbformat_minor": 5
}
