{
 "cells": [
  {
   "cell_type": "code",
   "execution_count": 1,
   "id": "4abfdd1b",
   "metadata": {},
   "outputs": [
    {
     "name": "stdout",
     "output_type": "stream",
     "text": [
      "Defaulting to user installation because normal site-packages is not writeable\n",
      "Requirement already satisfied: fpdf in c:\\users\\gmap\\appdata\\roaming\\python\\python39\\site-packages (1.7.2)\n"
     ]
    }
   ],
   "source": [
    "!pip install fpdf"
   ]
  },
  {
   "cell_type": "code",
   "execution_count": 1,
   "id": "bbdc7a88",
   "metadata": {},
   "outputs": [],
   "source": [
    "from fpdf import FPDF\n"
   ]
  },
  {
   "cell_type": "code",
   "execution_count": 2,
   "id": "56183341",
   "metadata": {},
   "outputs": [
    {
     "name": "stdout",
     "output_type": "stream",
     "text": [
      "Digite a descrição do projeto: teste\n",
      "Digite o total de horas estimadas: 8\n",
      "Digite o valor da hora trabalhada: 4\n",
      "Digite o prazo estimado: 10\n"
     ]
    }
   ],
   "source": [
    "projeto = input('Digite a descrição do projeto: ')\n",
    "horas_estimadas = input('Digite o total de horas estimadas: ')\n",
    "valor_hora = input('Digite o valor da hora trabalhada: ')\n",
    "prazo_estimado = input('Digite o prazo estimado: ')\n",
    "valor_total_estimado = int(horas_estimadas) * int(valor_hora)"
   ]
  },
  {
   "cell_type": "code",
   "execution_count": 23,
   "id": "04b49f10",
   "metadata": {},
   "outputs": [
    {
     "name": "stdout",
     "output_type": "stream",
     "text": [
      "Orçamento gerado com sucesso\n"
     ]
    }
   ],
   "source": [
    "#criando um pdf\n",
    "pdf = FPDF()\n",
    "\n",
    "pdf.add_page()\n",
    "pdf.set_font('Arial')\n",
    "\n",
    "\n",
    "# template\n",
    "pdf.image(\"template.png\", x=0, y=0)\n",
    "\n",
    "\n",
    "pdf.text(115, 145, projeto)\n",
    "pdf.text(115, 160, horas_estimadas)\n",
    "pdf.text(115, 175, valor_hora)\n",
    "pdf.text(115, 190, prazo_estimado)\n",
    "pdf.text(115, 205, str(valor_total_estimado))\n",
    "pdf.cell(w=0, h=5, txt=\"geraldox.com\", border= 1, align=\"C\", ln = 1)\n",
    "\n",
    "pdf.multi_cell(w = 50, h=5, border = 1, txt= \"Lorem Ipsum is simply dummy text of the printing and typesetting industry. Lorem Ipsum has been the industry's standard dummy text ever since the 1500s, when an unknown printer took a galley of type and scrambled it to make a type specimen book. It has\")\n",
    "\n",
    "\n",
    "\n",
    "#save\n",
    "pdf.output('orcamento.pdf')\n",
    "print('Orçamento gerado com sucesso')"
   ]
  },
  {
   "cell_type": "code",
   "execution_count": null,
   "id": "10d184c5",
   "metadata": {},
   "outputs": [],
   "source": []
  }
 ],
 "metadata": {
  "kernelspec": {
   "display_name": "Python 3 (ipykernel)",
   "language": "python",
   "name": "python3"
  },
  "language_info": {
   "codemirror_mode": {
    "name": "ipython",
    "version": 3
   },
   "file_extension": ".py",
   "mimetype": "text/x-python",
   "name": "python",
   "nbconvert_exporter": "python",
   "pygments_lexer": "ipython3",
   "version": "3.9.13"
  }
 },
 "nbformat": 4,
 "nbformat_minor": 5
}
