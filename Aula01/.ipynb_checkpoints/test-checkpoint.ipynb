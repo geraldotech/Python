{
 "cells": [
  {
   "cell_type": "code",
   "execution_count": null,
   "id": "96a985a9",
   "metadata": {},
   "outputs": [],
   "source": [
    "!pip install fpdf"
   ]
  },
  {
   "cell_type": "code",
   "execution_count": null,
   "id": "1820eb44",
   "metadata": {},
   "outputs": [],
   "source": [
    "from fpdf import FPDF"
   ]
  },
  {
   "cell_type": "code",
   "execution_count": null,
   "id": "21ee9c74",
   "metadata": {},
   "outputs": [],
   "source": [
    "#criando um pdf\n",
    "pdf = FPDF()\n",
    "\n",
    "pdf.add_page()\n",
    "pdf.set_font('Arial')\n",
    "# template\n",
    "\n",
    "pdf.text(115, 145, 'Geraldo')\n",
    "\n",
    "\n",
    "#save\n",
    "pdf.output('orcamento.pdf')\n",
    "print('Orçamento gerado com sucesso')\n"
   ]
  }
 ],
 "metadata": {
  "kernelspec": {
   "display_name": "Python 3 (ipykernel)",
   "language": "python",
   "name": "python3"
  },
  "language_info": {
   "codemirror_mode": {
    "name": "ipython",
    "version": 3
   },
   "file_extension": ".py",
   "mimetype": "text/x-python",
   "name": "python",
   "nbconvert_exporter": "python",
   "pygments_lexer": "ipython3",
   "version": "3.9.13"
  }
 },
 "nbformat": 4,
 "nbformat_minor": 5
}
