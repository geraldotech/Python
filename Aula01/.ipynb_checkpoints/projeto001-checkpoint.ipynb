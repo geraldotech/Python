{
 "cells": [
  {
   "cell_type": "markdown",
   "id": "96c60696",
   "metadata": {},
   "source": [
    "## Aula 01\n"
   ]
  },
  {
   "cell_type": "code",
   "execution_count": null,
   "id": "df49c8c0",
   "metadata": {},
   "outputs": [],
   "source": [
    "projeto = input('Digite a descrição do projeto: ')\n",
    "horas_estimadas = input('Digite o total de horas estimadas: ')\n",
    "valor_hora = input('Digite o valor da hora trabalhada: ')\n",
    "prazo_estimado = input('Digite o prazo estimado: ')\n",
    "valor_total_estimado = int(horas_estimadas) * int(valor_hora)\n",
    "\n",
    "\n",
    "\n",
    "\n",
    "\n"
   ]
  },
  {
   "cell_type": "code",
   "execution_count": null,
   "id": "4df3d182",
   "metadata": {},
   "outputs": [],
   "source": []
  }
 ],
 "metadata": {
  "kernelspec": {
   "display_name": "Python 3 (ipykernel)",
   "language": "python",
   "name": "python3"
  },
  "language_info": {
   "codemirror_mode": {
    "name": "ipython",
    "version": 3
   },
   "file_extension": ".py",
   "mimetype": "text/x-python",
   "name": "python",
   "nbconvert_exporter": "python",
   "pygments_lexer": "ipython3",
   "version": "3.9.13"
  }
 },
 "nbformat": 4,
 "nbformat_minor": 5
}
